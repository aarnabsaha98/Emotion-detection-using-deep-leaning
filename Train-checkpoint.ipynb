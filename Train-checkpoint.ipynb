{
 "cells": [
  {
   "cell_type": "code",
   "execution_count": 1,
   "id": "close-cuisine",
   "metadata": {
    "ExecuteTime": {
     "end_time": "2021-06-29T07:18:04.662254Z",
     "start_time": "2021-06-29T07:18:01.893047Z"
    }
   },
   "outputs": [],
   "source": [
    "import numpy as np\n",
    "import argparse\n",
    "import matplotlib.pyplot as plt\n",
    "\n",
    "import cv2\n",
    "import os\n",
    "from tensorflow.keras.models import load_model\n",
    "from tensorflow.keras.models import Sequential\n",
    "from tensorflow.keras.layers import Dense, Dropout, Flatten\n",
    "from tensorflow.keras.layers import Conv2D\n",
    "from tensorflow.keras.optimizers import Adam\n",
    "from tensorflow.keras.layers import MaxPooling2D\n",
    "from tensorflow.keras.preprocessing.image import ImageDataGenerator\n",
    "from tensorflow.keras.preprocessing.image import img_to_array"
   ]
  },
  {
   "cell_type": "code",
   "execution_count": 2,
   "id": "alive-silly",
   "metadata": {},
   "outputs": [
    {
     "data": {
      "text/plain": [
       "'data/train'"
      ]
     },
     "execution_count": 2,
     "metadata": {},
     "output_type": "execute_result"
    }
   ],
   "source": [
    "train_dir = 'data/train'\n",
    "val_dir = 'data/test'\n",
    "train_dir"
   ]
  },
  {
   "cell_type": "code",
   "execution_count": 16,
   "id": "colored-lawsuit",
   "metadata": {},
   "outputs": [],
   "source": [
    "num_train = 28709\n",
    "num_val = 7178\n",
    "batch_size = 64\n",
    "num_epoch = 50"
   ]
  },
  {
   "cell_type": "code",
   "execution_count": 17,
   "id": "bearing-booth",
   "metadata": {},
   "outputs": [
    {
     "name": "stdout",
     "output_type": "stream",
     "text": [
      "<tensorflow.python.keras.preprocessing.image.ImageDataGenerator object at 0x0000022BFCBF5340>\n"
     ]
    }
   ],
   "source": [
    "train_datagen = ImageDataGenerator(rescale=1./255)\n",
    "val_datagen = ImageDataGenerator(rescale=1./255)\n",
    "print(train_datagen)"
   ]
  },
  {
   "cell_type": "code",
   "execution_count": 18,
   "id": "silent-donor",
   "metadata": {},
   "outputs": [
    {
     "name": "stdout",
     "output_type": "stream",
     "text": [
      "Found 28821 images belonging to 7 classes.\n",
      "Found 7066 images belonging to 7 classes.\n"
     ]
    },
    {
     "data": {
      "text/plain": [
       "<tensorflow.python.keras.preprocessing.image.DirectoryIterator at 0x22bfcbf5730>"
      ]
     },
     "execution_count": 18,
     "metadata": {},
     "output_type": "execute_result"
    }
   ],
   "source": [
    "train_generator = train_datagen.flow_from_directory(\n",
    "        train_dir,\n",
    "        target_size=(48,48),\n",
    "        batch_size=batch_size,\n",
    "        color_mode=\"grayscale\",\n",
    "        class_mode='categorical')\n",
    "\n",
    "validation_generator = val_datagen.flow_from_directory(\n",
    "        val_dir,\n",
    "        target_size=(48,48),\n",
    "        batch_size=batch_size,\n",
    "        color_mode=\"grayscale\",\n",
    "        class_mode='categorical')\n",
    "train_generator"
   ]
  },
  {
   "cell_type": "code",
   "execution_count": 19,
   "id": "exclusive-magic",
   "metadata": {},
   "outputs": [],
   "source": [
    "# Create the model\n",
    "model = Sequential()\n",
    "\n",
    "model.add(Conv2D(32, kernel_size=(3, 3), activation='relu', input_shape=(48,48,1)))\n",
    "model.add(Conv2D(64, kernel_size=(3, 3), activation='relu'))\n",
    "model.add(MaxPooling2D(pool_size=(2, 2)))\n",
    "model.add(Dropout(0.25))\n",
    "\n",
    "model.add(Conv2D(128, kernel_size=(3, 3), activation='relu'))\n",
    "model.add(MaxPooling2D(pool_size=(2, 2)))\n",
    "model.add(Conv2D(128, kernel_size=(3, 3), activation='relu'))\n",
    "model.add(MaxPooling2D(pool_size=(2, 2)))\n",
    "model.add(Dropout(0.25))\n",
    "\n",
    "model.add(Flatten())\n",
    "model.add(Dense(1024, activation='relu'))\n",
    "model.add(Dropout(0.5))\n",
    "model.add(Dense(7, activation='softmax'))"
   ]
  },
  {
   "cell_type": "code",
   "execution_count": 20,
   "id": "professional-opposition",
   "metadata": {},
   "outputs": [
    {
     "name": "stdout",
     "output_type": "stream",
     "text": [
      "Epoch 1/50\n",
      "448/448 [==============================] - ETA: 0s - loss: 1.8042 - accuracy: 0.2571WARNING:tensorflow:Your input ran out of data; interrupting training. Make sure that your dataset or generator can generate at least `steps_per_epoch * epochs` batches (in this case, 112 batches). You may need to use the repeat() function when building your dataset.\n",
      "448/448 [==============================] - 514s 1s/step - loss: 1.8042 - accuracy: 0.2571 - val_loss: 1.7306 - val_accuracy: 0.3207\n",
      "Epoch 2/50\n",
      "448/448 [==============================] - 461s 1s/step - loss: 1.6440 - accuracy: 0.3596\n",
      "Epoch 3/50\n",
      "448/448 [==============================] - 359s 801ms/step - loss: 1.5428 - accuracy: 0.4064\n",
      "Epoch 4/50\n",
      "448/448 [==============================] - 303s 675ms/step - loss: 1.4657 - accuracy: 0.4367\n",
      "Epoch 5/50\n",
      "448/448 [==============================] - 280s 624ms/step - loss: 1.4058 - accuracy: 0.4626\n",
      "Epoch 6/50\n",
      "448/448 [==============================] - 234s 523ms/step - loss: 1.3574 - accuracy: 0.4825\n",
      "Epoch 7/50\n",
      "448/448 [==============================] - 229s 512ms/step - loss: 1.3124 - accuracy: 0.5035\n",
      "Epoch 8/50\n",
      "448/448 [==============================] - 228s 508ms/step - loss: 1.2696 - accuracy: 0.5204\n",
      "Epoch 9/50\n",
      "448/448 [==============================] - 211s 470ms/step - loss: 1.2362 - accuracy: 0.5317\n",
      "Epoch 10/50\n",
      "448/448 [==============================] - 209s 468ms/step - loss: 1.2015 - accuracy: 0.5482\n",
      "Epoch 11/50\n",
      "448/448 [==============================] - 221s 494ms/step - loss: 1.1780 - accuracy: 0.5561\n",
      "Epoch 12/50\n",
      "448/448 [==============================] - 256s 571ms/step - loss: 1.1480 - accuracy: 0.5671\n",
      "Epoch 13/50\n",
      "448/448 [==============================] - 242s 540ms/step - loss: 1.1186 - accuracy: 0.5803\n",
      "Epoch 14/50\n",
      "448/448 [==============================] - 227s 507ms/step - loss: 1.0934 - accuracy: 0.5932\n",
      "Epoch 15/50\n",
      "448/448 [==============================] - 226s 504ms/step - loss: 1.0698 - accuracy: 0.5991\n",
      "Epoch 16/50\n",
      "448/448 [==============================] - 1470s 3s/step - loss: 1.0465 - accuracy: 0.6100\n",
      "Epoch 17/50\n",
      "448/448 [==============================] - 292s 650ms/step - loss: 1.0220 - accuracy: 0.6185\n",
      "Epoch 18/50\n",
      "448/448 [==============================] - 299s 666ms/step - loss: 0.9996 - accuracy: 0.6283\n",
      "Epoch 19/50\n",
      "448/448 [==============================] - 345s 769ms/step - loss: 0.9711 - accuracy: 0.6367\n",
      "Epoch 20/50\n",
      "448/448 [==============================] - 355s 791ms/step - loss: 0.9499 - accuracy: 0.6467\n",
      "Epoch 21/50\n",
      "448/448 [==============================] - 285s 636ms/step - loss: 0.9236 - accuracy: 0.6590\n",
      "Epoch 22/50\n",
      "448/448 [==============================] - 249s 556ms/step - loss: 0.9075 - accuracy: 0.6652\n",
      "Epoch 23/50\n",
      "448/448 [==============================] - 212s 473ms/step - loss: 0.8828 - accuracy: 0.6730\n",
      "Epoch 24/50\n",
      "448/448 [==============================] - 212s 473ms/step - loss: 0.8534 - accuracy: 0.6878\n",
      "Epoch 25/50\n",
      "448/448 [==============================] - 213s 475ms/step - loss: 0.8353 - accuracy: 0.6936\n",
      "Epoch 26/50\n",
      "448/448 [==============================] - 212s 473ms/step - loss: 0.8142 - accuracy: 0.7030\n",
      "Epoch 27/50\n",
      "448/448 [==============================] - 233s 520ms/step - loss: 0.7924 - accuracy: 0.7115\n",
      "Epoch 28/50\n",
      "448/448 [==============================] - 662s 1s/step - loss: 0.7651 - accuracy: 0.7207\n",
      "Epoch 29/50\n",
      "448/448 [==============================] - 287s 640ms/step - loss: 0.7431 - accuracy: 0.7289\n",
      "Epoch 30/50\n",
      "448/448 [==============================] - 279s 622ms/step - loss: 0.7220 - accuracy: 0.7365\n",
      "Epoch 31/50\n",
      "448/448 [==============================] - 284s 633ms/step - loss: 0.6943 - accuracy: 0.7468\n",
      "Epoch 32/50\n",
      "448/448 [==============================] - 298s 665ms/step - loss: 0.6760 - accuracy: 0.7562\n",
      "Epoch 33/50\n",
      "448/448 [==============================] - 262s 584ms/step - loss: 0.6584 - accuracy: 0.7594\n",
      "Epoch 34/50\n",
      "448/448 [==============================] - 238s 530ms/step - loss: 0.6298 - accuracy: 0.7724\n",
      "Epoch 35/50\n",
      "448/448 [==============================] - 266s 593ms/step - loss: 0.6116 - accuracy: 0.7788\n",
      "Epoch 36/50\n",
      "448/448 [==============================] - 282s 628ms/step - loss: 0.5983 - accuracy: 0.7840\n",
      "Epoch 37/50\n",
      "448/448 [==============================] - 345s 770ms/step - loss: 0.5776 - accuracy: 0.7899\n",
      "Epoch 38/50\n",
      "448/448 [==============================] - 313s 700ms/step - loss: 0.5543 - accuracy: 0.7998\n",
      "Epoch 39/50\n",
      "448/448 [==============================] - 292s 651ms/step - loss: 0.5380 - accuracy: 0.8052\n",
      "Epoch 40/50\n",
      "448/448 [==============================] - 295s 658ms/step - loss: 0.5203 - accuracy: 0.8129\n",
      "Epoch 41/50\n",
      "448/448 [==============================] - 285s 636ms/step - loss: 0.5046 - accuracy: 0.8193\n",
      "Epoch 42/50\n",
      "448/448 [==============================] - 284s 633ms/step - loss: 0.4877 - accuracy: 0.8232\n",
      "Epoch 43/50\n",
      "448/448 [==============================] - 244s 544ms/step - loss: 0.4757 - accuracy: 0.8294\n",
      "Epoch 44/50\n",
      "448/448 [==============================] - 230s 514ms/step - loss: 0.4617 - accuracy: 0.8319\n",
      "Epoch 45/50\n",
      "448/448 [==============================] - 235s 524ms/step - loss: 0.4429 - accuracy: 0.8416\n",
      "Epoch 46/50\n",
      "448/448 [==============================] - 245s 547ms/step - loss: 0.4276 - accuracy: 0.8478\n",
      "Epoch 47/50\n",
      "448/448 [==============================] - 242s 541ms/step - loss: 0.4078 - accuracy: 0.8543\n",
      "Epoch 48/50\n",
      "448/448 [==============================] - 238s 530ms/step - loss: 0.4008 - accuracy: 0.8576\n",
      "Epoch 49/50\n",
      "448/448 [==============================] - 230s 513ms/step - loss: 0.3877 - accuracy: 0.8632\n",
      "Epoch 50/50\n",
      "448/448 [==============================] - 226s 505ms/step - loss: 0.3749 - accuracy: 0.8623\n"
     ]
    }
   ],
   "source": [
    "model.compile(loss='categorical_crossentropy',optimizer=Adam(learning_rate=0.0001, decay=1e-6),metrics=['accuracy'])\n",
    "\n",
    "model_info = model.fit(\n",
    "        train_generator,\n",
    "        steps_per_epoch=num_train // batch_size,\n",
    "        epochs=num_epoch,\n",
    "        validation_data=validation_generator,\n",
    "        validation_steps=num_val // batch_size)\n",
    "\n",
    "# save our model\n",
    "model.save('Models/emotion_detection_model.h5')"
   ]
  },
  {
   "cell_type": "code",
   "execution_count": 21,
   "id": "resistant-basin",
   "metadata": {},
   "outputs": [
    {
     "data": {
      "image/png": "[encoded data removed]",
      "text/plain": [
       "<Figure size 432x288 with 1 Axes>"
      ]
     },
     "metadata": {
      "needs_background": "light"
     },
     "output_type": "display_data"
    }
   ],
   "source": [
    "# summarize history for accuracy\n",
    "plt.plot(model_info.history['accuracy'])\n",
    "plt.plot(model_info.history['val_accuracy'])\n",
    "plt.title('model accuracy')\n",
    "plt.ylabel('accuracy')\n",
    "plt.xlabel('epoch')\n",
    "plt.legend(['train', 'test'], loc='upper left')\n",
    "plt.show()"
   ]
  },
  {
   "cell_type": "code",
   "execution_count": 22,
   "id": "expired-organ",
   "metadata": {},
   "outputs": [
    {
     "data": {
      "image/png": "[encoded data removed]",
      "text/plain": [
       "<Figure size 432x288 with 1 Axes>"
      ]
     },
     "metadata": {
      "needs_background": "light"
     },
     "output_type": "display_data"
    }
   ],
   "source": [
    "# summarize history for loss\n",
    "plt.plot(model_info.history['loss'])\n",
    "plt.plot(model_info.history['val_loss'])\n",
    "plt.title('model loss')\n",
    "plt.ylabel('loss')\n",
    "plt.xlabel('epoch')\n",
    "plt.legend(['train', 'test'], loc='upper left')\n",
    "plt.show()"
   ]
  },
  {
   "cell_type": "code",
   "execution_count": 3,
   "id": "gross-better",
   "metadata": {
    "ExecuteTime": {
     "end_time": "2021-06-29T07:18:09.248599Z",
     "start_time": "2021-06-29T07:18:08.997581Z"
    }
   },
   "outputs": [],
   "source": [
    "# Load pre-trained model (start from here to load model and test)\n",
    "\n",
    "model = load_model('Models/emotion_detection_model.h5')"
   ]
  },
  {
   "cell_type": "code",
   "execution_count": 4,
   "id": "08cdb783",
   "metadata": {
    "ExecuteTime": {
     "end_time": "2021-06-29T07:18:09.264600Z",
     "start_time": "2021-06-29T07:18:09.250600Z"
    }
   },
   "outputs": [],
   "source": [
    "# dictionary which assigns each label an emotion (alphabetical order)\n",
    "\n",
    "emotion_dict = {0: \"Angry\", 1: \"Disgusted\", 2: \"Fearful\", 3: \"Happy\", 4: \"Neutral\", 5: \"Sad\", 6: \"Surprised\"}"
   ]
  },
  {
   "cell_type": "code",
   "execution_count": 25,
   "id": "pointed-match",
   "metadata": {
    "ExecuteTime": {
     "end_time": "2021-06-29T06:59:17.322229Z",
     "start_time": "2021-06-29T06:59:15.198068Z"
    }
   },
   "outputs": [],
   "source": [
    "img = cv2.imread(\"imgs/2.jfif\") # Enter image path here to predict\n",
    "\n",
    "face_classifier = cv2.CascadeClassifier('haarcascade_frontalface_default.xml')\n",
    "emotion_dict = {0: \"Angry\", 1: \"Disgusted\", 2: \"Fearful\", 3: \"Happy\", 4: \"Neutral\", 5: \"Sad\", 6: \"Surprised\"}\n",
    "\n",
    "def face_detector(img):\n",
    "    # Convert image to grayscale\n",
    "    gray = cv2.cvtColor(img.copy(),cv2.COLOR_BGR2GRAY)\n",
    "    faces = face_classifier.detectMultiScale(gray, 1.3, 5)\n",
    "    \n",
    "#     if faces is ():\n",
    "#         return (0,0,0,0), np.zeros((48,48), np.uint8), img\n",
    "    \n",
    "    allfaces = []   \n",
    "    rects = []\n",
    "    for (x,y,w,h) in faces:\n",
    "        cv2.rectangle(img,(x,y),(x+w,y+h),(255,0,0),2)\n",
    "        roi_gray = gray[y:y+h, x:x+w]\n",
    "        roi_gray = cv2.resize(roi_gray, (48, 48), interpolation = cv2.INTER_AREA)\n",
    "        allfaces.append(roi_gray)\n",
    "        rects.append((x,w,y,h))\n",
    "    return rects, allfaces, img\n",
    "\n",
    "rects, faces, image = face_detector(img)\n",
    "\n",
    "i = 0\n",
    "for face in faces:\n",
    "    roi = face.astype(\"float\") / 255.0\n",
    "    roi = img_to_array(roi)\n",
    "    roi = np.expand_dims(roi, axis=0)\n",
    "\n",
    "    # make a prediction on the ROI, then lookup the class\n",
    "    preds = model.predict(roi)[0]\n",
    "    label = str(emotion_dict[preds.argmax()]) +' {:.1%}'.format(preds[preds.argmax()])\n",
    "\n",
    "    #Overlay our detected emotion on our pic\n",
    "    label_position = (rects[i][0] + int((rects[i][1]/2)), abs(rects[i][2] - 10))\n",
    "    i =+ 1\n",
    "    cv2.putText(image, label, label_position , cv2.FONT_HERSHEY_SIMPLEX,1, (0,255,0), 2)\n",
    "    \n",
    "cv2.imshow(\"Emotion Detector\", image)\n",
    "cv2.waitKey(0)\n",
    "\n",
    "cv2.destroyAllWindows()"
   ]
  },
  {
   "cell_type": "code",
   "execution_count": null,
   "id": "3ee930c5",
   "metadata": {},
   "outputs": [],
   "source": []
  },
  {
   "cell_type": "markdown",
   "id": "5b8e4f9f",
   "metadata": {},
   "source": [
    "## Check our model on webcam"
   ]
  },
  {
   "cell_type": "code",
   "execution_count": 6,
   "id": "german-leone",
   "metadata": {
    "ExecuteTime": {
     "end_time": "2021-06-29T07:19:42.426116Z",
     "start_time": "2021-06-29T07:18:12.519845Z"
    }
   },
   "outputs": [],
   "source": [
    "# prevents openCL usage and unnecessary logging messages (optional)\n",
    "cv2.ocl.setUseOpenCL(False)\n",
    "\n",
    "\n",
    "\n",
    "# start the webcam feed\n",
    "cap = cv2.VideoCapture(0)\n",
    "while True:\n",
    "    # Find haar cascade to draw bounding box around face\n",
    "    ret, frame = cap.read()\n",
    "    if not ret:\n",
    "        break\n",
    "    facecasc = cv2.CascadeClassifier('haarcascade_frontalface_default.xml')\n",
    "    gray = cv2.cvtColor(frame, cv2.COLOR_BGR2GRAY)\n",
    "    faces = facecasc.detectMultiScale(gray,scaleFactor=1.3, minNeighbors=5)\n",
    "\n",
    "    for (x, y, w, h) in faces:\n",
    "        cv2.rectangle(frame, (x, y-50), (x+w, y+h+10), (255, 0, 0), 2)\n",
    "        roi_gray = gray[y:y + h, x:x + w]\n",
    "        cropped_img = np.expand_dims(np.expand_dims(cv2.resize(roi_gray, (48, 48)), -1), 0)\n",
    "        prediction = model.predict(cropped_img)\n",
    "        maxindex = int(np.argmax(prediction))\n",
    "        \n",
    "        label = str(emotion_dict[maxindex]) +' {:.2%}'.format(np.amax(prediction))\n",
    "        cv2.putText(frame, label, (x+20, y-60), cv2.FONT_HERSHEY_SIMPLEX, 1, (0, 255, 0), 2, cv2.LINE_AA)\n",
    "\n",
    "    cv2.imshow('Video', cv2.resize(frame,(1600,960),interpolation = cv2.INTER_CUBIC))\n",
    "    if cv2.waitKey(1) & 0xFF == ord('q'):\n",
    "        break\n",
    "\n",
    "cap.release()\n",
    "cv2.destroyAllWindows()"
   ]
  },
  {
   "cell_type": "code",
   "execution_count": null,
   "id": "3aa3c380",
   "metadata": {},
   "outputs": [],
   "source": []
  }
 ],
 "metadata": {
  "kernelspec": {
   "display_name": "Python 3",
   "language": "python",
   "name": "python3"
  },
  "language_info": {
   "codemirror_mode": {
    "name": "ipython",
    "version": 3
   },
   "file_extension": ".py",
   "mimetype": "text/x-python",
   "name": "python",
   "nbconvert_exporter": "python",
   "pygments_lexer": "ipython3",
   "version": "3.9.5"
  },
  "toc": {
   "base_numbering": 1,
   "nav_menu": {},
   "number_sections": true,
   "sideBar": true,
   "skip_h1_title": false,
   "title_cell": "Table of Contents",
   "title_sidebar": "Contents",
   "toc_cell": false,
   "toc_position": {},
   "toc_section_display": true,
   "toc_window_display": false
  }
 },
 "nbformat": 4,
 "nbformat_minor": 5
}
